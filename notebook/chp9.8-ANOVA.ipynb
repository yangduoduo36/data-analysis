{
 "cells": [
  {
   "cell_type": "code",
   "execution_count": 2,
   "metadata": {
    "collapsed": true
   },
   "outputs": [],
   "source": [
    "import numpy as np\n",
    "import pandas as pd\n",
    "import scipy.stats as stats\n",
    "import matplotlib.pyplot as plt\n",
    "import math\n",
    "%matplotlib inline"
   ]
  },
  {
   "cell_type": "markdown",
   "metadata": {},
   "source": [
    "t检验检查两组均值是否不同，但是如果我们想比较的是多个组的均值呢？如果我们分布对任意两组进行t检验，那么出现false positives可能性就会增加， 因此我们用ANOVA进行多组比较。\n",
    "\n",
    "http://baike.baidu.com/link?url=ZARfL7bR2giK0MtGGcVuDRCNpjCTYVkLXnrgHO47L95V-M0Xsb8NZmRu-0OQ02vEQG6T6St-2eUFEUwhAEkCex-tMsnMXpewvGiI25bsnHSP3tGnT-t92QVAeEBJwZhpPbfr1y0s2IVBWGuP0cWWb2dStHzWH60EiiIsJf6yFe_"
   ]
  },
  {
   "cell_type": "markdown",
   "metadata": {},
   "source": [
    "### 单因素方差分析(one-way ANOVA)\n",
    "\n",
    "单因素方差分析 （one-way ANOVA），用于完全随机设计的多个样本均值间的比较，其统计推断是推断各样本所代表的各总体均值是否相等。"
   ]
  },
  {
   "cell_type": "code",
   "execution_count": 3,
   "metadata": {
    "collapsed": false
   },
   "outputs": [
    {
     "data": {
      "text/plain": [
       "F_onewayResult(statistic=1.5632226988817401, pvalue=0.18195623367052671)"
      ]
     },
     "execution_count": 3,
     "metadata": {},
     "output_type": "execute_result"
    }
   ],
   "source": [
    "np.random.seed(12)\n",
    "occupation = [\"teacher\",\"doctor\",\"police\",\"engineer\",\"farmer\"] \n",
    " \n",
    "occupation_surveyed = np.random.choice(a= occupation, p = [0.05, 0.15 ,0.25, 0.05, 0.5], size=1000)\n",
    "occupation_salary = stats.poisson.rvs(loc=1000, mu=5000, size=1000) \n",
    "\n",
    "occupation_frame = pd.DataFrame({\"occupation\":occupation_surveyed,\"salary\":occupation_salary})\n",
    "groups = occupation_frame.groupby(\"occupation\").groups \n",
    "\n",
    "teacher = occupation_salary[groups[\"teacher\"]] \n",
    "doctor = occupation_salary[groups[\"doctor\"]] \n",
    "police = occupation_salary[groups[\"police\"]] \n",
    "engineer = occupation_salary[groups[\"engineer\"]] \n",
    "farmer = occupation_salary[groups[\"farmer\"]] \n",
    "# ANOVA 使用f statistic\n",
    "stats.f_oneway(teacher,doctor,police,engineer,farmer)"
   ]
  },
  {
   "cell_type": "code",
   "execution_count": 8,
   "metadata": {
    "collapsed": false
   },
   "outputs": [
    {
     "data": {
      "text/plain": [
       "F_onewayResult(statistic=549.09170650043848, pvalue=5.300894444455738e-250)"
      ]
     },
     "execution_count": 8,
     "metadata": {},
     "output_type": "execute_result"
    }
   ],
   "source": [
    "np.random.seed(12)\n",
    "occupation = [\"teacher\",\"doctor\",\"police\",\"engineer\",\"farmer\"] \n",
    "\n",
    "occupation_surveyed = np.random.choice(a= occupation, p = [0.05, 0.15 ,0.25, 0.05, 0.5], size=1000)\n",
    "doctor_salary = stats.poisson.rvs(loc=1000, mu=5300, size=1000) \n",
    "occupation_salary = stats.poisson.rvs(loc=1000, mu=5000, size=1000) \n",
    "occupation_salary=np.where(occupation_surveyed=='doctor',doctor_salary,occupation_salary)\n",
    "\n",
    "occupation_frame = pd.DataFrame({\"occupation\":occupation_surveyed,\"salary\":occupation_salary})\n",
    "groups = occupation_frame.groupby(\"occupation\").groups \n",
    "\n",
    "teacher = occupation_salary[groups[\"teacher\"]] \n",
    "doctor = occupation_salary[groups[\"doctor\"]] \n",
    "police = occupation_salary[groups[\"police\"]] \n",
    "engineer = occupation_salary[groups[\"engineer\"]] \n",
    "farmer = occupation_salary[groups[\"farmer\"]] \n",
    "\n",
    "stats.f_oneway(teacher,doctor,police,engineer,farmer)"
   ]
  },
  {
   "cell_type": "code",
   "execution_count": null,
   "metadata": {
    "collapsed": true
   },
   "outputs": [],
   "source": []
  },
  {
   "cell_type": "code",
   "execution_count": 11,
   "metadata": {
    "collapsed": false
   },
   "outputs": [
    {
     "name": "stdout",
     "output_type": "stream",
     "text": [
      "teacher doctor\n",
      "Ttest_indResult(statistic=-25.255879708706377, pvalue=1.7666958019684808e-62)\n",
      "teacher police\n",
      "Ttest_indResult(statistic=0.10138228657965127, pvalue=0.91931803569152359)\n",
      "teacher engineer\n",
      "Ttest_indResult(statistic=-0.19170818593634736, pvalue=0.84839328034210038)\n",
      "teacher farmer\n",
      "Ttest_indResult(statistic=-0.155725848608219, pvalue=0.87630554063137844)\n",
      "doctor police\n",
      "Ttest_indResult(statistic=39.38920537009394, pvalue=7.9536844129633176e-138)\n",
      "doctor engineer\n",
      "Ttest_indResult(statistic=25.091398401148108, pvalue=5.7549615242100805e-63)\n",
      "doctor farmer\n",
      "Ttest_indResult(statistic=46.63650979729028, pvalue=4.5515353748840878e-211)\n",
      "police engineer\n",
      "Ttest_indResult(statistic=-0.36519996716083153, pvalue=0.71522652440185186)\n",
      "police farmer\n",
      "Ttest_indResult(statistic=-0.53295372032500377, pvalue=0.59422203324218559)\n",
      "engineer farmer\n",
      "Ttest_indResult(statistic=0.14053306712992175, pvalue=0.88828909194451944)\n"
     ]
    }
   ],
   "source": [
    "# 两量比较\n",
    "salary_pairs = []\n",
    "for i in range(4): \n",
    "    for j in range(i+1,5): \n",
    "        salary_pairs.append((occupation[i], occupation[j])) \n",
    "\n",
    "for occupation1, occupation2 in salary_pairs:\n",
    "    print(occupation1, occupation2)\n",
    "    print(stats.ttest_ind(occupation_salary[groups[occupation1]],occupation_salary[groups[occupation2]]))"
   ]
  },
  {
   "cell_type": "markdown",
   "metadata": {},
   "source": [
    "比较次数越多那么越可能出现false positive.这时一种方法是调整置信度，比如10次比较，那我的p就用0.05/10。通常可以采用Bonferroni correction.还有一种就是使用Tukey test( pairwise_tukeyhsd()))\n"
   ]
  },
  {
   "cell_type": "code",
   "execution_count": 9,
   "metadata": {
    "collapsed": false
   },
   "outputs": [
    {
     "data": {
      "text/html": [
       "<table class=\"simpletable\">\n",
       "<caption>Multiple Comparison of Means - Tukey HSD,FWER=0.05</caption>\n",
       "<tr>\n",
       "   <th>group1</th>   <th>group2</th>  <th>meandiff</th>    <th>lower</th>     <th>upper</th>   <th>reject</th>\n",
       "</tr>\n",
       "<tr>\n",
       "   <td>doctor</td>  <td>engineer</td> <td>-303.2605</td> <td>-335.933</td>  <td>-270.5881</td>  <td>True</td> \n",
       "</tr>\n",
       "<tr>\n",
       "   <td>doctor</td>   <td>farmer</td>  <td>-304.7508</td> <td>-323.4129</td> <td>-286.0888</td>  <td>True</td> \n",
       "</tr>\n",
       "<tr>\n",
       "   <td>doctor</td>   <td>police</td>  <td>-307.7622</td> <td>-328.5988</td> <td>-286.9255</td>  <td>True</td> \n",
       "</tr>\n",
       "<tr>\n",
       "   <td>doctor</td>   <td>teacher</td> <td>-306.4742</td> <td>-340.7687</td> <td>-272.1797</td>  <td>True</td> \n",
       "</tr>\n",
       "<tr>\n",
       "  <td>engineer</td>  <td>farmer</td>   <td>-1.4903</td>  <td>-31.0519</td>   <td>28.0713</td>   <td>False</td>\n",
       "</tr>\n",
       "<tr>\n",
       "  <td>engineer</td>  <td>police</td>   <td>-4.5016</td>   <td>-35.482</td>   <td>26.4787</td>   <td>False</td>\n",
       "</tr>\n",
       "<tr>\n",
       "  <td>engineer</td>  <td>teacher</td>  <td>-3.2136</td>  <td>-44.4657</td>   <td>38.0384</td>   <td>False</td>\n",
       "</tr>\n",
       "<tr>\n",
       "   <td>farmer</td>   <td>police</td>   <td>-3.0113</td>  <td>-18.5215</td>   <td>12.4988</td>   <td>False</td>\n",
       "</tr>\n",
       "<tr>\n",
       "   <td>farmer</td>   <td>teacher</td>  <td>-1.7233</td>  <td>-33.0684</td>   <td>29.6217</td>   <td>False</td>\n",
       "</tr>\n",
       "<tr>\n",
       "   <td>police</td>   <td>teacher</td>   <td>1.288</td>   <td>-31.3984</td>   <td>33.9745</td>   <td>False</td>\n",
       "</tr>\n",
       "</table>"
      ],
      "text/plain": [
       "<class 'statsmodels.iolib.table.SimpleTable'>"
      ]
     },
     "execution_count": 9,
     "metadata": {},
     "output_type": "execute_result"
    },
    {
     "data": {
      "image/png": "[encoded data removed]",
      "text/plain": [
       "<matplotlib.figure.Figure at 0x64bfc88>"
      ]
     },
     "metadata": {},
     "output_type": "display_data"
    }
   ],
   "source": [
    "from statsmodels.stats.multicomp import pairwise_tukeyhsd\n",
    "tukey = pairwise_tukeyhsd(endog=occupation_salary, # Data \n",
    "                          groups=occupation_surveyed, # Groups \n",
    "                          alpha=0.05) # Significance level \n",
    "tukey.plot_simultaneous() # Plot group confidence intervals \n",
    "tukey.summary()"
   ]
  },
  {
   "cell_type": "code",
   "execution_count": null,
   "metadata": {
    "collapsed": true
   },
   "outputs": [],
   "source": []
  }
 ],
 "metadata": {
  "anaconda-cloud": {},
  "kernelspec": {
   "display_name": "Python [conda env:py35]",
   "language": "python",
   "name": "conda-env-py35-py"
  },
  "language_info": {
   "codemirror_mode": {
    "name": "ipython",
    "version": 3
   },
   "file_extension": ".py",
   "mimetype": "text/x-python",
   "name": "python",
   "nbconvert_exporter": "python",
   "pygments_lexer": "ipython3",
   "version": "3.5.2"
  }
 },
 "nbformat": 4,
 "nbformat_minor": 1
}
